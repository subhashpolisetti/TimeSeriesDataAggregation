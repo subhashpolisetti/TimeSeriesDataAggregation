{
  "nbformat": 4,
  "nbformat_minor": 0,
  "metadata": {
    "colab": {
      "provenance": [],
      "authorship_tag": "ABX9TyOmjHrYr0B4qxT/6tKeXvW+",
      "include_colab_link": true
    },
    "kernelspec": {
      "name": "python3",
      "display_name": "Python 3"
    },
    "language_info": {
      "name": "python"
    }
  },
  "cells": [
    {
      "cell_type": "markdown",
      "metadata": {
        "id": "view-in-github",
        "colab_type": "text"
      },
      "source": [
        "<a href=\"https://colab.research.google.com/github/subhashpolisetti/TimeSeriesDataAggregation/blob/main/Time_Series_Data_Aggregation_with_Hopping_Windows.ipynb\" target=\"_parent\"><img src=\"https://colab.research.google.com/assets/colab-badge.svg\" alt=\"Open In Colab\"/></a>"
      ]
    },
    {
      "source": [
        "!pip install ace-tools\n",
        "import pandas as pd\n",
        "import numpy as np\n",
        "\n",
        "# Step 1: Create a sample time series dataframe\n",
        "data = {\n",
        "    'timestamp': pd.date_range(start='2024-01-01', periods=100, freq='h'),\n",
        "    'value': np.random.randint(1, 10, 100)  # random temperature values\n",
        "}\n",
        "df = pd.DataFrame(data)\n",
        "df.set_index('timestamp', inplace=True)\n",
        "\n",
        "# Step 2: Define hopping window parameters\n",
        "window_size = '3h'  # Window duration\n",
        "hop_size = '1h'     # Hop interval\n",
        "\n",
        "# Step 3: Apply Hopping Window Function\n",
        "# Calculate mean values in each hopping window by resampling and using a rolling mean\n",
        "hopping_means = df['value'].rolling(window=window_size).mean().resample(hop_size).mean()\n",
        "\n",
        "# Display the resulting DataFrame with mean temperature readings in each hopping window\n",
        "hopping_means_df = hopping_means.to_frame(name=\"Hopping Window Mean Values\")\n",
        "# import ace_tools as tools;\n",
        "# The line above tries to import a module called 'ace_tools', but it likely does not exist or is not intended.\n",
        "# Please check the module you wish to use. Below, I am replacing this with a simple display using pandas method.\n",
        "print(hopping_means_df)\n",
        "#tools.display_dataframe_to_user(name=\"Hopping Window Mean Values\", dataframe=hopping_means_df)"
      ],
      "cell_type": "code",
      "metadata": {
        "colab": {
          "base_uri": "https://localhost:8080/"
        },
        "id": "29XoJgKl-iyg",
        "outputId": "ab66ec94-08db-4460-86c9-edaac51689d0"
      },
      "execution_count": null,
      "outputs": [
        {
          "output_type": "stream",
          "name": "stdout",
          "text": [
            "Requirement already satisfied: ace-tools in /usr/local/lib/python3.10/dist-packages (0.0)\n",
            "                     Hopping Window Mean Values\n",
            "timestamp                                      \n",
            "2024-01-01 00:00:00                    6.000000\n",
            "2024-01-01 01:00:00                    7.000000\n",
            "2024-01-01 02:00:00                    5.666667\n",
            "2024-01-01 03:00:00                    5.333333\n",
            "2024-01-01 04:00:00                    3.000000\n",
            "...                                         ...\n",
            "2024-01-04 23:00:00                    3.666667\n",
            "2024-01-05 00:00:00                    1.666667\n",
            "2024-01-05 01:00:00                    3.333333\n",
            "2024-01-05 02:00:00                    5.333333\n",
            "2024-01-05 03:00:00                    7.666667\n",
            "\n",
            "[100 rows x 1 columns]\n"
          ]
        }
      ]
    },
    {
      "cell_type": "code",
      "source": [],
      "metadata": {
        "id": "65PF9BLw-jF6"
      },
      "execution_count": null,
      "outputs": []
    }
  ]
}